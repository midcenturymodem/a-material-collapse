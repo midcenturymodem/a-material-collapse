{
 "cells": [
  {
   "cell_type": "code",
   "execution_count": 40,
   "metadata": {},
   "outputs": [],
   "source": [
    "from PIL import Image\n",
    "from PIL.ExifTags import TAGS\n",
    "from glob import glob\n",
    "import pandas as pd"
   ]
  },
  {
   "cell_type": "code",
   "execution_count": 50,
   "metadata": {},
   "outputs": [],
   "source": [
    "dataDump = []\n",
    "for file in fileList:\n",
    "    # read the image data using PIL\n",
    "    image = Image.open(file)\n",
    "    # extract EXIF data\n",
    "    exifdata = image.getexif()\n",
    "    # iterating over all EXIF data fields\n",
    "    for tag_id in exifdata:\n",
    "        tempObj = {}\n",
    "        try:\n",
    "            # get the tag name, instead of human unreadable tag id\n",
    "            tag = TAGS.get(tag_id, tag_id)\n",
    "            data = exifdata.get(tag_id)\n",
    "            # decode bytes \n",
    "            if isinstance(data, bytes):\n",
    "                data = data.decode()\n",
    "        #     tempObj[f\"{tag:25}\"] = data\n",
    "            if (tag == \"GPSInfo\"):\n",
    "                dataDump.append(data)\n",
    "        except:\n",
    "            # nada\n",
    "            pass"
   ]
  },
  {
   "cell_type": "code",
   "execution_count": 52,
   "metadata": {},
   "outputs": [],
   "source": [
    "cleanData = []\n",
    "\n",
    "for i in range(0, len(dataDump)):\n",
    "    cleanData.append({\n",
    "        'lat': f\"{dataDump[i][2][0][0]} {dataDump[i][2][1][0]} {dataDump[i][2][2][0]} {dataDump[i][1]}\",\n",
    "        'lon': f\"{dataDump[i][4][0][0]} {dataDump[i][4][1][0]} {dataDump[i][4][2][0]} {dataDump[i][3]}\"\n",
    "    })\n",
    "\n",
    "scrapedData = pd.DataFrame(cleanData)\n",
    "scrapedData['file'] = fileList"
   ]
  },
  {
   "cell_type": "code",
   "execution_count": 53,
   "metadata": {},
   "outputs": [],
   "source": [
    "scrapedData.to_csv(\"./metadata.csv\")"
   ]
  },
  {
   "cell_type": "code",
   "execution_count": null,
   "metadata": {},
   "outputs": [],
   "source": []
  }
 ],
 "metadata": {
  "kernelspec": {
   "display_name": "Python 3",
   "language": "python",
   "name": "python3"
  },
  "language_info": {
   "codemirror_mode": {
    "name": "ipython",
    "version": 3
   },
   "file_extension": ".py",
   "mimetype": "text/x-python",
   "name": "python",
   "nbconvert_exporter": "python",
   "pygments_lexer": "ipython3",
   "version": "3.8.3"
  }
 },
 "nbformat": 4,
 "nbformat_minor": 4
}
